{
 "cells": [
  {
   "cell_type": "markdown",
   "metadata": {},
   "source": [
    "# IAM Tractometry with [TractSeg](http://yeatmanlab.github.io/pyAFQ/index.html)\n",
    "\n",
    "This script ustilizes TractSeg to perform tractometry on select IAM subjects. This scripts serves as an investigational tool in determining a DKI post-processing pipeline."
   ]
  },
  {
   "cell_type": "markdown",
   "metadata": {},
   "source": [
    "## Load all required modules\n",
    "\n",
    "Load all required Python modules"
   ]
  },
  {
   "cell_type": "code",
   "execution_count": 1,
   "metadata": {},
   "outputs": [],
   "source": [
    "import os\n",
    "import os.path as op\n",
    "import shutil\n",
    "import glob\n",
    "import numpy as np\n",
    "import subprocess\n",
    "import nibabel as nib\n",
    "import tscompatibility as ts"
   ]
  },
  {
   "cell_type": "markdown",
   "metadata": {},
   "source": [
    "## Define paths\n",
    "Define paths to various input/output folders. Input folder needs to be defined as that containing subject folders, while the output directory will contain TractSeg's outputs."
   ]
  },
  {
   "cell_type": "code",
   "execution_count": 2,
   "metadata": {},
   "outputs": [],
   "source": [
    "input = '/Users/dataprocessing/Documents/IAM/TractSeg_Subs'\n",
    "output = '/Users/dataprocessing/Documents/IAM/TractSeg'\n",
    "path_mni = '/Users/dataprocessing/Documents/IAM/TractSeg/MNI_FA_template.nii.gz'"
   ]
  },
  {
   "cell_type": "markdown",
   "metadata": {},
   "source": [
    "## 1. Read Subject Information\n",
    "\n",
    "Read the content of input directory to form a list of subjects."
   ]
  },
  {
   "cell_type": "code",
   "execution_count": 3,
   "metadata": {},
   "outputs": [],
   "source": [
    "subPaths = glob.glob(op.join(input, '*'))"
   ]
  },
  {
   "cell_type": "markdown",
   "metadata": {},
   "source": [
    "## 2. Process Each Subject"
   ]
  },
  {
   "cell_type": "code",
   "execution_count": null,
   "metadata": {},
   "outputs": [
    {
     "name": "stdout",
     "output_type": "stream",
     "text": [
      "Processing IAM_1158\n",
      "\n",
      "----- Files being processed -----\n",
      "FA: /Users/dataprocessing/Documents/IAM/TractSeg_Subs/IAM_1158/metrics/fa.nii\n",
      "DWI: /Users/dataprocessing/Documents/IAM/TractSeg_Subs/IAM_1158/dwi_preprocessed.nii\n",
      "BVEC: /Users/dataprocessing/Documents/IAM/TractSeg_Subs/IAM_1158/dwi_preprocessed.bvec\n",
      "BVAL: /Users/dataprocessing/Documents/IAM/TractSeg_Subs/IAM_1158/dwi_preprocessed.bval\n",
      "Mask: /Users/dataprocessing/Documents/IAM/TractSeg_Subs/IAM_1158/brain_mask.nii\n",
      "---------------------------------\n",
      "\n",
      "STAGE 1: Image registration into MNI space\n",
      "\n",
      "Removing NaNs from scalar image\n",
      "Computing transformation affine matrix\n",
      "Transform FA into MNI space...\n",
      "Transform DWI into MNI space...\n",
      "Transform brain mask into MNI space...\n",
      "Rotating BVECs into MNI space...\n",
      "Copying BVALs...\n",
      "\n",
      "STAGE 2: Processing with TractSeg\n",
      "\n",
      "Creating segmentation bundles...\n"
     ]
    }
   ],
   "source": [
    "failedRun = []\n",
    "for i in subPaths:\n",
    "    subID = op.basename(i)\n",
    "    \n",
    "    subOut = op.join(output, subID)\n",
    "    ts.runtractseg(input=i,\n",
    "               output=subOut,\n",
    "               docker=None)\n",
    "#     try:\n",
    "#         runtractseg(input=i,\n",
    "#                    output=subOut)\n",
    "#     except:\n",
    "#         failedRun.append(subID)"
   ]
  },
  {
   "cell_type": "code",
   "execution_count": null,
   "metadata": {},
   "outputs": [],
   "source": [
    "print(failedRun)"
   ]
  },
  {
   "cell_type": "code",
   "execution_count": null,
   "metadata": {},
   "outputs": [],
   "source": [
    "subList = [op.basename(x) for x in subPaths]\n",
    "for i in subList:\n",
    "    print(i)"
   ]
  },
  {
   "cell_type": "markdown",
   "metadata": {},
   "source": [
    "## Run group analysis"
   ]
  },
  {
   "cell_type": "code",
   "execution_count": null,
   "metadata": {},
   "outputs": [],
   "source": [
    "print('STAGE 3: Group analysis')\n",
    "print('')\n",
    "arg = ['plot_tractometry_results']\n",
    "arg.extend(['-i', '/Users/dataprocessing/Documents/IAM/TractSeg/subjects.txt'])\n",
    "arg.extend(['-o', '/Users/dataprocessing/Documents/IAM/TractSeg/tractometry_result.png'])\n",
    "# arg.extend(['--plot3D', 'metric', '--tracking_format', 'trk'])\n",
    "arg.append('--mc')\n",
    "print('COMMAND: {}'.format(' '.join(arg)))\n",
    "completion = subprocess.run(arg)\n",
    "if completion.returncode != 0:\n",
    "    raise Exception('Unable to run TractSeg: Group analysis. '\n",
    "                    'Check above for errors')"
   ]
  }
 ],
 "metadata": {
  "kernelspec": {
   "display_name": "Python 3",
   "language": "python",
   "name": "python3"
  },
  "language_info": {
   "codemirror_mode": {
    "name": "ipython",
    "version": 3
   },
   "file_extension": ".py",
   "mimetype": "text/x-python",
   "name": "python",
   "nbconvert_exporter": "python",
   "pygments_lexer": "ipython3",
   "version": "3.7.7"
  }
 },
 "nbformat": 4,
 "nbformat_minor": 4
}
